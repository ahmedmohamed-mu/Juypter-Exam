{
 "cells": [
  {
   "cell_type": "code",
   "execution_count": null,
   "id": "1b233450",
   "metadata": {},
   "outputs": [],
   "source": [
    "#### The Title of the note book is Exam "
   ]
  },
  {
   "cell_type": "code",
   "execution_count": null,
   "id": "65a0ab25",
   "metadata": {},
   "outputs": [],
   "source": [
    "#### This cell is for introduction :\n",
    "In THis Juypter Notebook I will do the Tasks "
   ]
  },
  {
   "cell_type": "code",
   "execution_count": null,
   "id": "293de527",
   "metadata": {},
   "outputs": [],
   "source": [
    "#### This cell is for data science Languages : \n",
    "Python , R , SQL , Scala ,Julia"
   ]
  },
  {
   "cell_type": "code",
   "execution_count": null,
   "id": "1b1b9572",
   "metadata": {},
   "outputs": [],
   "source": [
    "#### This cell is for data science libiries : \n",
    "Numpy, pandas,Matplotlib,seaborn,Tensorflow"
   ]
  },
  {
   "cell_type": "code",
   "execution_count": null,
   "id": "c7a9feef",
   "metadata": {},
   "outputs": [],
   "source": [
    "#### This cell is for data science Tools :\n",
    "Python , R Studio, Juypter notebook , Apache Spark ,..."
   ]
  },
  {
   "cell_type": "code",
   "execution_count": null,
   "id": "38d74b4f",
   "metadata": {},
   "outputs": [],
   "source": [
    "#### This cell is for introducing arithmetic expression examples :\n",
    "(5+4)*2=18\n",
    "(2*8)+6=22"
   ]
  },
  {
   "cell_type": "code",
   "execution_count": 1,
   "id": "c7683ca7",
   "metadata": {},
   "outputs": [
    {
     "name": "stdout",
     "output_type": "stream",
     "text": [
      "22\n"
     ]
    }
   ],
   "source": [
    "print((5+6)*2)"
   ]
  },
  {
   "cell_type": "code",
   "execution_count": 2,
   "id": "2dec5038",
   "metadata": {},
   "outputs": [
    {
     "name": "stdout",
     "output_type": "stream",
     "text": [
      "1.0\n"
     ]
    }
   ],
   "source": [
    "minutes = 60\n",
    "hour = minutes/60\n",
    "print(hour)"
   ]
  },
  {
   "cell_type": "code",
   "execution_count": null,
   "id": "b10f722e",
   "metadata": {},
   "outputs": [],
   "source": [
    "#### This cell is for List objectives :\n",
    "Data analysis,exploration,Machine learning, Collaborative work, knowledge sharing"
   ]
  },
  {
   "cell_type": "code",
   "execution_count": null,
   "id": "2c83c4d1",
   "metadata": {},
   "outputs": [],
   "source": [
    "#### The Author's name:\n",
    " Ahmed mohamed mohamed mostafa "
   ]
  }
 ],
 "metadata": {
  "kernelspec": {
   "display_name": "Python 3 (ipykernel)",
   "language": "python",
   "name": "python3"
  },
  "language_info": {
   "codemirror_mode": {
    "name": "ipython",
    "version": 3
   },
   "file_extension": ".py",
   "mimetype": "text/x-python",
   "name": "python",
   "nbconvert_exporter": "python",
   "pygments_lexer": "ipython3",
   "version": "3.11.4"
  }
 },
 "nbformat": 4,
 "nbformat_minor": 5
}
